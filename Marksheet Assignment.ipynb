{
 "cells": [
  {
   "cell_type": "code",
   "execution_count": 1,
   "metadata": {},
   "outputs": [
    {
     "name": "stdout",
     "output_type": "stream",
     "text": [
      "Please enter Maths's marks 97\n",
      "Please enter English's marks 86\n",
      "Please enter Physics's marks 87\n",
      "Please enter Chemistry's marks 88\n",
      "Please enter Computer's marks 99\n",
      "Your Grade is A+\n"
     ]
    }
   ],
   "source": [
    "mark1 = float(input(\"Please enter Maths's marks \"))\n",
    "mark2 = float(input(\"Please enter English's marks \"))\n",
    "mark3 = float(input(\"Please enter Physics's marks \"))\n",
    "mark4 = float(input(\"Please enter Chemistry's marks \"))\n",
    "mark5 = float(input(\"Please enter Computer's marks \"))\n",
    "\n",
    "total = mark1+mark2+mark3+mark4+mark5\n",
    "average = total/5\n",
    "\n",
    "if(average>=91.0 and average<=100.0):\n",
    "    print(\"Your Grade is A+\");\n",
    "elif(average>=81.0 and average<=90.0):\n",
    "    print(\"Your Grade is A\");\n",
    "elif(average>=71.0 and average<=80.0):\n",
    "    print(\"Your Grade is B+\");\n",
    "elif(average>=61.0 and average<=70.0):\n",
    "    print(\"Your Grade is B\");\n",
    "elif(average>=51.0 and average<=60.0):\n",
    "    print(\"Your Grade is C+\");\n",
    "elif(average>=41.0 and average<=50.0):\n",
    "    print(\"Your Grade is C\");\n",
    "elif(average>=0.0 and average<=40.0):\n",
    "    print(\"Your Grade is F\");\n",
    "else:\n",
    "    print(\"Strange Grade..!!\");  "
   ]
  },
  {
   "cell_type": "code",
   "execution_count": null,
   "metadata": {},
   "outputs": [],
   "source": []
  },
  {
   "cell_type": "code",
   "execution_count": null,
   "metadata": {},
   "outputs": [],
   "source": []
  }
 ],
 "metadata": {
  "kernelspec": {
   "display_name": "Python 3",
   "language": "python",
   "name": "python3"
  },
  "language_info": {
   "codemirror_mode": {
    "name": "ipython",
    "version": 3
   },
   "file_extension": ".py",
   "mimetype": "text/x-python",
   "name": "python",
   "nbconvert_exporter": "python",
   "pygments_lexer": "ipython3",
   "version": "3.6.5"
  }
 },
 "nbformat": 4,
 "nbformat_minor": 2
}
